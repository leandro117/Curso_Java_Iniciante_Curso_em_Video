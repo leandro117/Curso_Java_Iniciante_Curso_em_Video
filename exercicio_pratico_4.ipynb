{
  "nbformat": 4,
  "nbformat_minor": 0,
  "metadata": {
    "colab": {
      "provenance": [],
      "authorship_tag": "ABX9TyPsZTjMNgK5zTD2BMRSb0PB",
      "include_colab_link": true
    },
    "kernelspec": {
      "name": "python3",
      "display_name": "Python 3"
    },
    "language_info": {
      "name": "python"
    }
  },
  "cells": [
    {
      "cell_type": "markdown",
      "metadata": {
        "id": "view-in-github",
        "colab_type": "text"
      },
      "source": [
        "<a href=\"https://colab.research.google.com/github/leandro117/Curso_Java_Iniciante_Curso_em_Video/blob/main/exercicio_pratico_4.ipynb\" target=\"_parent\"><img src=\"https://colab.research.google.com/assets/colab-badge.svg\" alt=\"Open In Colab\"/></a>"
      ]
    },
    {
      "cell_type": "code",
      "execution_count": null,
      "metadata": {
        "id": "4DSv0EQbc0yb"
      },
      "outputs": [],
      "source": [
        "\"\"\"Armazena os dados para inscrição de um curso, mostra todos os dados cadastrados.\"\"\"\n",
        "\n",
        "from random import randint\n",
        "\n",
        "#mostra o menu de opcoes\n",
        "def menu():\n",
        "  print(\"*\" * 20, \"MENU\", \"*\" * 20)\n",
        "  print(\"1 - Nova inscrição\")\n",
        "  print(\"2 - Vizualizar incrição\")\n",
        "  print(\"0 - Encerrar\")\n",
        "\n",
        "#faz o cadastro dos dados da pessoa\n",
        "def cadastrar():\n",
        "  voucher = randint(0000, 9999)\n",
        "  nome = input(\"Digite seu nome: \")\n",
        "  email = input(\"Digite seu email: \")\n",
        "  telefone = int(input(\"Digite seu telefone: \"))\n",
        "  curso = input(\"Digite seu curso: \")\n",
        "  dados = {\"Voucher\":voucher, \"Nome\":nome, \"Email\":email, \"Telefone\":telefone, \"Curso\":curso}\n",
        "  return dados\n",
        "\n",
        "#mostra todos os dados cadastrados\n",
        "def mostrar(lista):\n",
        "    print(\"-\" * 20, \"LISTA DE INSCRITOS\", \"-\" * 20)\n",
        "    if(lista != []):\n",
        "     for cadastro in lista:\n",
        "      for i,j in cadastro.items():\n",
        "       print(\"{:<20}:  {:>20}\" .format(i, j))\n",
        "      print(\"\\n\")\n",
        "    else:\n",
        "      print(\"Nenhuma inscrição cadastrada\")\n",
        "\n",
        "#principal\n",
        "lista = []\n",
        "while True:\n",
        " menu()\n",
        " try:\n",
        "  opcao = int(input(\"Opção escolhida: \"))\n",
        "  while(opcao > 2 or opcao < 0):\n",
        "   print(\"Valor invalido\")\n",
        "   print(\"Digite 0, 1 ou 2 \\n\")\n",
        "   opcao = int(input(\"Opção escolhida: \"))\n",
        " except ValueError:\n",
        "   print(\"Valor invalido\")\n",
        "   print(\"Digite 0, 1 ou 2 \\n\")\n",
        "   continue\n",
        " if(opcao == 0):\n",
        "   break\n",
        " if(opcao == 1):\n",
        "  cadastro = cadastrar()\n",
        "  lista.append(cadastro)\n",
        " if(opcao == 2):\n",
        "  mostrar(lista)\n",
        "print(\"\\n\")\n",
        "print(\"Programa Encerrado!\")"
      ]
    },
    {
      "cell_type": "code",
      "source": [],
      "metadata": {
        "id": "MbdLSGMZWCUG"
      },
      "execution_count": null,
      "outputs": []
    }
  ]
}